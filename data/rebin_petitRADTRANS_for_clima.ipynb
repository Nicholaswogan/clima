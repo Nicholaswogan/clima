{
 "cells": [
  {
   "cell_type": "code",
   "execution_count": 1,
   "id": "006aadce",
   "metadata": {},
   "outputs": [],
   "source": [
    "import numpy as np\n",
    "from matplotlib import pyplot as plt\n",
    "from petitRADTRANS import Radtrans\n",
    "import h5py"
   ]
  },
  {
   "cell_type": "markdown",
   "id": "2ea0f484",
   "metadata": {},
   "source": [
    "# k-coefficients"
   ]
  },
  {
   "cell_type": "code",
   "execution_count": 2,
   "id": "a3ca2305",
   "metadata": {},
   "outputs": [],
   "source": [
    "species = [\n",
    "    'H2O',\n",
    "    'CO',\n",
    "    'CO2',\n",
    "    'CH4',\n",
    "    'O3',\n",
    "    'O2',\n",
    "    'NH3',\n",
    "    'C2H2',\n",
    "    'C2H4',\n",
    "    'H2S',\n",
    "    'HCN'\n",
    "]\n",
    "\n",
    "pspecies = [\n",
    "    'H2O_HITEMP',\n",
    "    'CO_12_HITEMP',\n",
    "    'CO2',\n",
    "    'CH4',\n",
    "    'O3',\n",
    "    'O2',\n",
    "    'NH3',\n",
    "    'C2H2',\n",
    "    'C2H4',\n",
    "    'H2S',\n",
    "    'HCN'\n",
    "]\n"
   ]
  },
  {
   "cell_type": "code",
   "execution_count": 3,
   "id": "81c87b58",
   "metadata": {},
   "outputs": [
    {
     "name": "stdout",
     "output_type": "stream",
     "text": [
      "  Read line opacities of H2O_HITEMP...\n",
      " Done.\n",
      "  Read line opacities of CO_12_HITEMP...\n",
      " Done.\n",
      "  Read line opacities of CO2...\n",
      " Done.\n",
      "  Read line opacities of CH4...\n",
      " Done.\n",
      "  Read line opacities of O3...\n",
      " Done.\n",
      "  Read line opacities of O2...\n",
      " Done.\n",
      "  Read line opacities of NH3...\n",
      " Done.\n",
      "  Read line opacities of C2H2...\n",
      " Done.\n",
      "  Read line opacities of C2H4...\n",
      " Done.\n",
      "  Read line opacities of H2S...\n",
      " Done.\n",
      "  Read line opacities of HCN...\n",
      " Done.\n",
      "\n"
     ]
    }
   ],
   "source": [
    "atmosphere = Radtrans(line_species = pspecies,\n",
    "                      wlen_bords_micron = [0.1, 251.]) # DO NOT CHANGE THESE WAVELENGTH BOUNDS FOR THE REBINNING!"
   ]
  },
  {
   "cell_type": "code",
   "execution_count": 4,
   "id": "a5203061",
   "metadata": {},
   "outputs": [
    {
     "name": "stdout",
     "output_type": "stream",
     "text": [
      "{'H2O': 18, 'CO': 28, 'CO2': 44, 'CH4': 16, 'O3': 48, 'O2': 32, 'NH3': 17, 'C2H2': 26, 'C2H4': 28, 'H2S': 34, 'HCN': 27}\n"
     ]
    }
   ],
   "source": [
    "from molmass import Formula\n",
    "\n",
    "masses = {}\n",
    "for spec in species:\n",
    "    f = Formula(spec)\n",
    "    masses[spec] = f.isotope.massnumber\n",
    "\n",
    "print(masses)"
   ]
  },
  {
   "cell_type": "code",
   "execution_count": 5,
   "id": "566672bb",
   "metadata": {},
   "outputs": [
    {
     "name": "stdout",
     "output_type": "stream",
     "text": [
      "Rebinning species H2O_HITEMP...\n",
      "Rebinning species CO_12_HITEMP...\n",
      "Rebinning species CO2...\n",
      "Rebinning species CH4...\n",
      "Rebinning species O3...\n",
      "Rebinning species O2...\n",
      "Rebinning species NH3...\n",
      "Rebinning species C2H2...\n",
      "Rebinning species C2H4...\n",
      "Rebinning species H2S...\n",
      "Rebinning species HCN...\n"
     ]
    }
   ],
   "source": [
    "R = 10\n",
    "atmosphere.write_out_rebin(R,\n",
    "                           path='rebin_RADTRANS',\n",
    "                           species = pspecies,\n",
    "                           masses = masses)"
   ]
  },
  {
   "cell_type": "code",
   "execution_count": null,
   "id": "24665fb0",
   "metadata": {},
   "outputs": [],
   "source": []
  },
  {
   "cell_type": "code",
   "execution_count": 6,
   "id": "490bf4aa",
   "metadata": {},
   "outputs": [],
   "source": [
    "# new wavenumbers bin edges I want to save the data at\n",
    "wavnum_N = np.array([4.05256468e+04, 3.66559428e+04, 3.31557483e+04, 2.99897796e+04,\n",
    "       2.71261222e+04, 2.45359090e+04, 2.21930296e+04, 2.00738665e+04,\n",
    "       1.81570576e+04, 1.64232805e+04, 1.48550579e+04, 1.34365815e+04,\n",
    "       1.21535521e+04, 1.09930365e+04, 9.94333583e+03, 8.99386879e+03,\n",
    "       8.13506424e+03, 7.35826503e+03, 6.65564065e+03, 6.02010831e+03,\n",
    "       5.44526155e+03, 4.92530562e+03, 4.45499913e+03, 4.02960116e+03,\n",
    "       3.64482350e+03, 3.29678740e+03, 2.98198450e+03, 2.69724142e+03,\n",
    "       2.43968783e+03, 2.20672746e+03, 1.99601196e+03, 1.80541721e+03,\n",
    "       1.63302193e+03, 1.47708830e+03, 1.33604442e+03, 1.20846851e+03,\n",
    "       1.09307453e+03, 9.88699275e+02, 8.94290578e+02, 8.08896757e+02,\n",
    "       7.31657003e+02, 6.61792702e+02, 5.98599587e+02, 5.41440642e+02,\n",
    "       4.89739679e+02, 4.42975525e+02, 4.00676776e+02, 3.62417041e+02,\n",
    "       3.27810643e+02, 2.96508733e+02, 2.68195773e+02, 2.42586354e+02,\n",
    "       2.19422322e+02, 1.98470172e+02, 1.79518697e+02, 1.62376855e+02,\n",
    "       1.46871850e+02, 1.32847383e+02, 1.20162082e+02, 1.08688072e+02,\n",
    "       9.83096892e+01, 8.89223154e+01, 8.04313211e+01, 7.27511130e+01,\n",
    "       6.58042708e+01, 5.95207672e+01, 5.38372614e+01, 4.86964609e+01,\n",
    "       4.40465441e+01, 3.98406375e+01])"
   ]
  },
  {
   "cell_type": "code",
   "execution_count": null,
   "id": "f89078aa",
   "metadata": {},
   "outputs": [],
   "source": []
  },
  {
   "cell_type": "code",
   "execution_count": 7,
   "id": "d8a2e4f9",
   "metadata": {},
   "outputs": [],
   "source": [
    "def read_petit_file(file, wavnum_N):\n",
    "\n",
    "    with h5py.File(file, 'r') as f:\n",
    "\n",
    "        kcoeff = f['kcoeff'][:,:,:,:]\n",
    "\n",
    "        wavnum = f['bin_edges'][:]\n",
    "        ind0 = np.argmin(np.abs(wavnum-np.min(wavnum_N)))\n",
    "        ind1 = np.argmin(np.abs(wavnum-np.max(wavnum_N)))\n",
    "\n",
    "        if not np.all(np.isclose(wavnum[ind0:ind1+1],wavnum_N[::-1])):\n",
    "            raise Exception(\"wavenumbers are not consistent\")\n",
    "\n",
    "        T = f['t'][:]\n",
    "        nT = len(T)\n",
    "\n",
    "        P = f['p'][:]\n",
    "        nP = len(P)\n",
    "\n",
    "        weights = f['weights'][:]\n",
    "        ngauss = len(weights)\n",
    "\n",
    "        kcoeff1 = kcoeff[:,:,ind0:ind1,:]\n",
    "        nw = kcoeff1.shape[2]\n",
    "        kcoeff_N = np.empty((ngauss,nP,nT,nw),order='F')\n",
    "\n",
    "        # reorder elements\n",
    "        for i in range(nP):\n",
    "            for j in range(nT):\n",
    "                for k in range(kcoeff1.shape[2]):\n",
    "                    kk = kcoeff1.shape[2]-k-1\n",
    "                    for l in range(ngauss):\n",
    "                        kcoeff_N[l,i,j,kk] = kcoeff1[i,j,k,l]  \n",
    "\n",
    "\n",
    "        log10_kcoeff_N = np.log10(kcoeff_N)\n",
    "        \n",
    "    return weights, T, P, log10_kcoeff_N\n",
    "    \n",
    "    \n",
    "\n",
    "def create_k_dataset(filename, sp, notes, weights, T, log10P, wavelengths, log10k):\n",
    "\n",
    "    with h5py.File(filename, \"w\") as f:\n",
    "\n",
    "        l = \"50\"\n",
    "        dset = f.create_dataset(\"species\",(),dtype=\"S\"+l)\n",
    "        dset[()] = ('{:'+l+'}').format(sp).encode()\n",
    "\n",
    "        dset = f.create_dataset(\"notes\",(),dtype=\"S1000\")\n",
    "        dset[()] = '{:1000}'.format(notes).encode()\n",
    "\n",
    "        dset = f.create_dataset(\"weights\", weights.shape, 'f')\n",
    "        dset[:] = weights\n",
    "        \n",
    "        dset = f.create_dataset(\"T\", T.shape, 'f')\n",
    "        dset[:] = T\n",
    "        \n",
    "        dset = f.create_dataset(\"log10P\", log10P.shape, 'f')\n",
    "        dset[:] = log10P\n",
    "        \n",
    "        dset = f.create_dataset(\"wavelengths\", wavelengths.shape, 'f')\n",
    "        dset[:] = wavelengths\n",
    "\n",
    "        dset = f.create_dataset(\"log10k\", log10k.T.shape, 'f')\n",
    "        dset[:] = log10k.T"
   ]
  },
  {
   "cell_type": "code",
   "execution_count": null,
   "id": "e1416fbd",
   "metadata": {},
   "outputs": [],
   "source": []
  },
  {
   "cell_type": "code",
   "execution_count": 8,
   "id": "73d4d5ad",
   "metadata": {},
   "outputs": [],
   "source": [
    "notes = \\\n",
    "\"\"\"petitRADTRANS k-coeff database downbined to R = 10.\n",
    "Reference DOI: 10.1051/0004-6361/201935470\n",
    "Date: 4/16/22\n",
    "Creator: Nick Wogan\n",
    "Email: nicholaswogan@gmail.com\n",
    "\n",
    "units:\n",
    "wavelengths: [um]\n",
    "log10P: [bar]\n",
    "T: [K]\n",
    "log10k: [cm^2/molecule]\n",
    "\"\"\""
   ]
  },
  {
   "cell_type": "code",
   "execution_count": 9,
   "id": "56a2cca8",
   "metadata": {},
   "outputs": [],
   "source": [
    "# loop over all species\n",
    "for i,spec in enumerate(pspecies):\n",
    "    file = \"rebin_RADTRANS/\"+spec+\"_R_10/\"+spec+\"_R_10.h5\"\n",
    "    sp = species[i]\n",
    "    outfilename = \"kdistributions/\"+sp+\".h5\"\n",
    "    \n",
    "    weights, T, P, log10_kcoeff_N = read_petit_file(file, wavnum_N)\n",
    "    log10P = np.log10(P)\n",
    "    wavl_N = 1e4/wavnum_N\n",
    "    create_k_dataset(outfilename, sp, notes, weights, T, log10P, wavl_N, log10_kcoeff_N)\n",
    "    "
   ]
  },
  {
   "cell_type": "code",
   "execution_count": null,
   "id": "e4fbabfa",
   "metadata": {},
   "outputs": [],
   "source": []
  },
  {
   "cell_type": "code",
   "execution_count": 12,
   "id": "98e28eac",
   "metadata": {},
   "outputs": [],
   "source": [
    "sol_wavl = \\\n",
    "np.array([0.24675732, 0.27280706, 0.30160683, 0.33344693, 0.36864834,\n",
    "       0.40756591, 0.45059193, 0.49816013, 0.55075003, 0.60889175,\n",
    "       0.67317139, 0.74423692, 0.82280471, 0.90966677, 1.00569871,\n",
    "       1.11186857, 1.22924659, 1.35901601, 1.50248496, 1.66109968,\n",
    "       1.83645908, 2.03033086, 2.24466935, 2.48163518, 2.74361708,\n",
    "       3.03325595, 3.35347149, 3.70749163, 4.09888506, 4.5315972 ])\n",
    "\n",
    "ir_wavl = \\\n",
    "np.array([  0.30160683,   0.33344693,   0.36864834,   0.40756591,\n",
    "         0.45059193,   0.49816013,   0.55075003,   0.60889175,\n",
    "         0.67317139,   0.74423692,   0.82280471,   0.90966677,\n",
    "         1.00569871,   1.11186857,   1.22924659,   1.35901601,\n",
    "         1.50248496,   1.66109968,   1.83645908,   2.03033086,\n",
    "         2.24466935,   2.48163518,   2.74361708,   3.03325595,\n",
    "         3.35347149,   3.70749163,   4.09888506,   4.5315972 ,\n",
    "         5.00999002,   5.53888593,   6.12361646,   6.77007597,\n",
    "         7.48478109,   8.27493638,   9.14850698,  10.11429891,\n",
    "        11.18204782,  12.36251711,  13.66760648,  15.11047187,\n",
    "        16.70565803,  18.46924522,  20.41901124,  22.57461065,\n",
    "        24.95777294,  27.59252151,  30.50541589,  33.72581946,\n",
    "        37.28619542,  41.22243405,  45.57421454,  50.38540491,\n",
    "        55.70450425,  61.58513163,  68.0865666 ,  75.27434672,\n",
    "        83.22092825,  92.00641654, 101.71937351, 112.45771041,\n",
    "       124.32967482, 137.4549418 , 151.96582034, 168.00858702,\n",
    "       185.74496061, 205.35373223, 227.03256769, 251.        ])"
   ]
  },
  {
   "cell_type": "code",
   "execution_count": 13,
   "id": "34befac8",
   "metadata": {},
   "outputs": [],
   "source": [
    "with h5py.File(\"kdistributions/bins.h5\", \"w\") as f:\n",
    "    dset = f.create_dataset(\"sol_wavl\", sol_wavl.shape, 'f')\n",
    "    dset[:] = sol_wavl\n",
    "    \n",
    "    dset = f.create_dataset(\"ir_wavl\", ir_wavl.shape, 'f')\n",
    "    dset[:] = ir_wavl"
   ]
  },
  {
   "cell_type": "code",
   "execution_count": null,
   "id": "22461b7d",
   "metadata": {},
   "outputs": [],
   "source": []
  },
  {
   "cell_type": "markdown",
   "id": "199b9ab8",
   "metadata": {},
   "source": [
    "# CIA"
   ]
  },
  {
   "cell_type": "code",
   "execution_count": 15,
   "id": "b6f2a623",
   "metadata": {},
   "outputs": [],
   "source": [
    "import os"
   ]
  },
  {
   "cell_type": "code",
   "execution_count": 17,
   "id": "75b6c228",
   "metadata": {},
   "outputs": [],
   "source": [
    "rt_path = os.environ[\"pRT_input_data_path\"]"
   ]
  },
  {
   "cell_type": "code",
   "execution_count": null,
   "id": "90c60f01",
   "metadata": {},
   "outputs": [],
   "source": []
  },
  {
   "cell_type": "code",
   "execution_count": 19,
   "id": "1c42e98a",
   "metadata": {},
   "outputs": [],
   "source": [
    "\n",
    "\n",
    "def get_cia(sp):\n",
    "\n",
    "    Pstp = 1\n",
    "    C = 1/1.013e6\n",
    "    Tstp = 273.15\n",
    "    k = 1.3807e-16\n",
    "    Ca = (Pstp*(1/C))/(k*Tstp) # (molecules/cm3)/(amagat)\n",
    "\n",
    "    filename = rt_path+\"/opacities/continuum/CIA/\"+sp+\"/temps.dat\"\n",
    "    f = open(filename,'r')\n",
    "    lines = f.readlines()\n",
    "    f.close()\n",
    "\n",
    "    T = np.array([float(a.strip()) for a in lines],dtype=np.float64)\n",
    "    nT = len(T)\n",
    "\n",
    "    filename = rt_path+\"/opacities/continuum/CIA/\"+sp+\"/CIA_\"+sp+\"_final.dat\"\n",
    "    f = open(filename,'r')\n",
    "    lines = f.readlines()\n",
    "    f.close()\n",
    "\n",
    "    nw = len(lines[2:])\n",
    "    wv = np.empty(nw,np.float64)\n",
    "    log10xs = np.empty((nT,nw),np.float64)\n",
    "\n",
    "    for i,line in enumerate(lines[2:]):\n",
    "        wv[i] = float(line.split()[0])*1e4\n",
    "        tmp = np.array([float(a) for a in line.split()[1:]])\n",
    "        tmp = np.clip(tmp, a_min=0, a_max=np.inf)\n",
    "        log10xs[:,i] = np.log10(tmp*(1/Ca)**2 + np.sqrt(np.finfo(np.float64).tiny))\n",
    "\n",
    "    return wv, T, log10xs"
   ]
  },
  {
   "cell_type": "code",
   "execution_count": 20,
   "id": "1f852952",
   "metadata": {},
   "outputs": [],
   "source": [
    "def write_CIA(filename, notes, wv, T, log10xs):\n",
    "    with h5py.File(filename, \"w\") as f:\n",
    "\n",
    "        dset = f.create_dataset(\"notes\",(),dtype=\"S1000\")\n",
    "        dset[()] = '{:1000}'.format(notes).encode()\n",
    "\n",
    "        dset = f.create_dataset(\"wavelengths\", wv.shape, 'f')\n",
    "        dset[:] = wv\n",
    "\n",
    "        dset = f.create_dataset(\"T\", T.shape, 'f')\n",
    "        dset[:] = T\n",
    "\n",
    "        dset = f.create_dataset(\"log10xs\", log10xs.T.shape, 'f')\n",
    "        dset[:,:] = log10xs.T"
   ]
  },
  {
   "cell_type": "code",
   "execution_count": 21,
   "id": "4e403507",
   "metadata": {},
   "outputs": [],
   "source": [
    "sp1 = \"H2\"\n",
    "sp2 = \"H2\"\n",
    "\n",
    "wv, T, log10xs = get_cia(sp1+sp2)\n",
    "s = int(len(wv)/500)\n",
    "wv = wv[::s]\n",
    "log10xs = log10xs[:,::s]\n",
    "\n",
    "notes = \\\n",
    "sp1+'-'+sp2+\"\"\" CIA from Mollière et al. 2019 downsampled to approximately 500 points\n",
    "wavelengths = [um]\n",
    "T = [K]\n",
    "log10xs = [cm^2/molecule]\n",
    "\"\"\"\n",
    "\n",
    "# write_CIA(sp1+'-'+sp2+\".h5\", notes, wv, T, log10xs)"
   ]
  },
  {
   "cell_type": "code",
   "execution_count": 23,
   "id": "4a550238",
   "metadata": {},
   "outputs": [
    {
     "data": {
      "image/png": "[encoded data removed]",
      "text/plain": [
       "<Figure size 504x360 with 1 Axes>"
      ]
     },
     "metadata": {
      "needs_background": "light"
     },
     "output_type": "display_data"
    }
   ],
   "source": [
    "plt.rcParams.update({'font.size': 15})\n",
    "fig,ax = plt.subplots(1,1,figsize=[7,5])\n",
    "\n",
    "s = 10\n",
    "ax.plot(wv,10**log10xs[0,:])\n",
    "\n",
    "ax.set_yscale('log')\n",
    "ax.set_xlim(0,10)\n",
    "ax.set_ylim(1e-51,1e-44)\n",
    "\n",
    "plt.show()"
   ]
  },
  {
   "cell_type": "code",
   "execution_count": null,
   "id": "d120bcb8",
   "metadata": {},
   "outputs": [],
   "source": []
  }
 ],
 "metadata": {
  "kernelspec": {
   "display_name": "Python 3 (ipykernel)",
   "language": "python",
   "name": "python3"
  },
  "language_info": {
   "codemirror_mode": {
    "name": "ipython",
    "version": 3
   },
   "file_extension": ".py",
   "mimetype": "text/x-python",
   "name": "python",
   "nbconvert_exporter": "python",
   "pygments_lexer": "ipython3",
   "version": "3.9.12"
  }
 },
 "nbformat": 4,
 "nbformat_minor": 5
}
